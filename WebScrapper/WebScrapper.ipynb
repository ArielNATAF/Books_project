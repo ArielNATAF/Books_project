{
 "cells": [
  {
   "cell_type": "code",
   "execution_count": 1,
   "metadata": {
    "executionInfo": {
     "elapsed": 908,
     "status": "ok",
     "timestamp": 1619378527496,
     "user": {
      "displayName": "Carine Therond",
      "photoUrl": "",
      "userId": "01656088634002615900"
     },
     "user_tz": -120
    },
    "id": "oEYnvg77_aRY"
   },
   "outputs": [],
   "source": [
    "from google.colab import drive"
   ]
  },
  {
   "cell_type": "code",
   "execution_count": 2,
   "metadata": {
    "colab": {
     "base_uri": "https://localhost:8080/"
    },
    "executionInfo": {
     "elapsed": 21552,
     "status": "ok",
     "timestamp": 1619378548168,
     "user": {
      "displayName": "Carine Therond",
      "photoUrl": "",
      "userId": "01656088634002615900"
     },
     "user_tz": -120
    },
    "id": "6_YCxDAk_g5X",
    "outputId": "3b18754a-df7e-4385-ec74-25a7eac6aef7"
   },
   "outputs": [
    {
     "name": "stdout",
     "output_type": "stream",
     "text": [
      "Mounted at /content/drive\n"
     ]
    }
   ],
   "source": [
    "drive.mount('/content/drive')"
   ]
  },
  {
   "cell_type": "code",
   "execution_count": 6,
   "metadata": {
    "executionInfo": {
     "elapsed": 739,
     "status": "ok",
     "timestamp": 1619378653404,
     "user": {
      "displayName": "Carine Therond",
      "photoUrl": "",
      "userId": "01656088634002615900"
     },
     "user_tz": -120
    },
    "id": "lKY85y1fAa59"
   },
   "outputs": [],
   "source": [
    "import pandas as pd\n",
    "import time\n",
    "import re\n",
    "import requests\n",
    "from urllib.request import urlopen\n",
    "import bs4\n",
    "import warnings"
   ]
  },
  {
   "cell_type": "code",
   "execution_count": 7,
   "metadata": {
    "executionInfo": {
     "elapsed": 969,
     "status": "ok",
     "timestamp": 1619378674327,
     "user": {
      "displayName": "Carine Therond",
      "photoUrl": "",
      "userId": "01656088634002615900"
     },
     "user_tz": -120
    },
    "id": "scZIbWb9fUVj"
   },
   "outputs": [],
   "source": [
    "import sys\n",
    "cheminMonGitHub = '/content/drive/MyDrive/ProjetML/Base_BookCrossing/'\n",
    "sys.path.append(cheminMonGitHub)"
   ]
  },
  {
   "cell_type": "code",
   "execution_count": 16,
   "metadata": {
    "colab": {
     "base_uri": "https://localhost:8080/"
    },
    "executionInfo": {
     "elapsed": 474,
     "status": "ok",
     "timestamp": 1619379720550,
     "user": {
      "displayName": "Carine Therond",
      "photoUrl": "",
      "userId": "01656088634002615900"
     },
     "user_tz": -120
    },
    "id": "29mUMrTpfIal",
    "outputId": "02190299-2b3c-4c52-c576-a57191e57e43"
   },
   "outputs": [
    {
     "data": {
      "text/plain": [
       "<module 'BooksSearch_BothWebSites' from '/content/drive/MyDrive/ProjetML/Base_BookCrossing/BooksSearch_BothWebSites.py'>"
      ]
     },
     "execution_count": 16,
     "metadata": {
      "tags": []
     },
     "output_type": "execute_result"
    }
   ],
   "source": [
    "import Parser_csv_BooksList as P\n",
    "import BooksSearch_GoodReads as GR\n",
    "import BooksSearch_Google as G\n",
    "import BooksSearch_BothWebSites as BothWS\n",
    "\n",
    "import importlib as imp\n",
    "imp.reload(P)\t\n",
    "imp.reload(GR)\t\n",
    "imp.reload(G)\n",
    "imp.reload(BothWS)"
   ]
  },
  {
   "cell_type": "code",
   "execution_count": null,
   "metadata": {
    "id": "dTqy-QoGA3D2"
   },
   "outputs": [],
   "source": []
  },
  {
   "cell_type": "code",
   "execution_count": 17,
   "metadata": {
    "colab": {
     "base_uri": "https://localhost:8080/"
    },
    "executionInfo": {
     "elapsed": 95680,
     "status": "ok",
     "timestamp": 1619379821272,
     "user": {
      "displayName": "Carine Therond",
      "photoUrl": "",
      "userId": "01656088634002615900"
     },
     "user_tz": -120
    },
    "id": "bKJwNkgsA3Su",
    "outputId": "27822b6b-8127-4da1-b868-dfb6b22ef1c4"
   },
   "outputs": [
    {
     "name": "stderr",
     "output_type": "stream",
     "text": [
      "/usr/local/lib/python3.7/dist-packages/ipykernel_launcher.py:14: UserWarning: Let this be your last warning\n",
      "  \n"
     ]
    },
    {
     "name": "stdout",
     "output_type": "stream",
     "text": [
      "Not found books: 0\n"
     ]
    }
   ],
   "source": [
    "cheminBookCrossing = '/content/drive/MyDrive/ProjetML/Base_BookCrossing/Base_originale/'\n",
    "cheminCommon = '/content/drive/MyDrive/ProjetML/Base_BookCrossing/Base_completee/'\n",
    "\n",
    "SaveFileName = cheminCommon + 'Test_25_04_2021.csv'\n",
    "        \n",
    "theColumns = ['ISBN_10', 'ISBN_13', 'OtherID', 'Book-Title', 'Book-Author', \\\n",
    "                            'Year-Of-Publication', 'Publisher', 'Category', 'Description', 'Language', \\\n",
    "                            'Image', 'Pages', 'Awards', \"Author's genre\", 'Same serie', 'average_rating']\n",
    "    \n",
    "#List of books to search on Google\n",
    "f = open(cheminBookCrossing + 'BX-Books.csv', encoding=\"utf8\", errors=\"replace\")\n",
    "f.readline()\n",
    "        \n",
    "#Internet search function\n",
    "with warnings.catch_warnings():\n",
    "    warnings.warn(\"Let this be your last warning\")\n",
    "    warnings.simplefilter(\"ignore\")\n",
    "    NotFoundBooks = BothWS.internetSearch(f, SaveFileName, theColumns, 0, 15, Re = False) \n",
    "    \n",
    "print(\"Not found books: %d\" % NotFoundBooks)\n",
    "f.close()   \n"
   ]
  },
  {
   "cell_type": "code",
   "execution_count": null,
   "metadata": {
    "id": "gHpYHNHLBqCd"
   },
   "outputs": [],
   "source": []
  },
  {
   "cell_type": "code",
   "execution_count": 17,
   "metadata": {
    "executionInfo": {
     "elapsed": 1081,
     "status": "ok",
     "timestamp": 1619380024764,
     "user": {
      "displayName": "Carine Therond",
      "photoUrl": "",
      "userId": "01656088634002615900"
     },
     "user_tz": -120
    },
    "id": "vusQpDaDAUdl"
   },
   "outputs": [],
   "source": []
  },
  {
   "cell_type": "code",
   "execution_count": 17,
   "metadata": {
    "executionInfo": {
     "elapsed": 464,
     "status": "ok",
     "timestamp": 1619380024766,
     "user": {
      "displayName": "Carine Therond",
      "photoUrl": "",
      "userId": "01656088634002615900"
     },
     "user_tz": -120
    },
    "id": "H4yA4ZBnkjD_"
   },
   "outputs": [],
   "source": []
  },
  {
   "cell_type": "code",
   "execution_count": 17,
   "metadata": {
    "executionInfo": {
     "elapsed": 518,
     "status": "ok",
     "timestamp": 1619380025065,
     "user": {
      "displayName": "Carine Therond",
      "photoUrl": "",
      "userId": "01656088634002615900"
     },
     "user_tz": -120
    },
    "id": "h_PqtOKakjNv"
   },
   "outputs": [],
   "source": []
  },
  {
   "cell_type": "code",
   "execution_count": null,
   "metadata": {
    "id": "OBr4drwMkjRh"
   },
   "outputs": [],
   "source": []
  }
 ],
 "metadata": {
  "colab": {
   "authorship_tag": "ABX9TyNy6rTdmTtzTiUxozpHZItZ",
   "collapsed_sections": [],
   "name": "WebScrapper.ipynb",
   "provenance": [
    {
     "file_id": "1U7SQ5pkqZKGMIRzJNoW7kMBZm5UqhDA8",
     "timestamp": 1615796842051
    }
   ]
  },
  "kernelspec": {
   "display_name": "Python 3 (Spyder)",
   "language": "python3",
   "name": "python3"
  },
  "language_info": {
   "codemirror_mode": {
    "name": "ipython",
    "version": 3
   },
   "file_extension": ".py",
   "mimetype": "text/x-python",
   "name": "python",
   "nbconvert_exporter": "python",
   "pygments_lexer": "ipython3",
   "version": "3.7.3"
  }
 },
 "nbformat": 4,
 "nbformat_minor": 1
}
